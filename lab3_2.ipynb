{
 "cells": [
  {
   "cell_type": "markdown",
   "metadata": {},
   "source": [
    "## Доверительные интервалы <br> Проверка статистических гипотез\n"
   ]
  },
  {
   "cell_type": "code",
   "execution_count": 32,
   "metadata": {},
   "outputs": [],
   "source": [
    "import pandas as pd\n",
    "from statsmodels.stats.weightstats import _tconfint_generic\n",
    "%matplotlib inline"
   ]
  },
  {
   "cell_type": "markdown",
   "metadata": {},
   "source": [
    "В файле water.txt представлено 61 наблюдение. Каждое наблюдение – город в \n",
    "Англии и Уэльсе. Города дополнительно поделены на северные и южные. Для \n",
    "каждого города известны средняя годовая смертность на 100000 населения (по \n",
    "данным 1958–1964) и концентрация кальция в питьевой воде (в частях на \n",
    "миллион). Чем выше концентрация кальция, тем жёстче вода."
   ]
  },
  {
   "cell_type": "code",
   "execution_count": 33,
   "metadata": {},
   "outputs": [
    {
     "data": {
      "text/html": [
       "<div>\n",
       "<style scoped>\n",
       "    .dataframe tbody tr th:only-of-type {\n",
       "        vertical-align: middle;\n",
       "    }\n",
       "\n",
       "    .dataframe tbody tr th {\n",
       "        vertical-align: top;\n",
       "    }\n",
       "\n",
       "    .dataframe thead th {\n",
       "        text-align: right;\n",
       "    }\n",
       "</style>\n",
       "<table border=\"1\" class=\"dataframe\">\n",
       "  <thead>\n",
       "    <tr style=\"text-align: right;\">\n",
       "      <th></th>\n",
       "      <th>locatio</th>\n",
       "      <th>tow</th>\n",
       "      <th>mortalit</th>\n",
       "      <th>hardness</th>\n",
       "    </tr>\n",
       "  </thead>\n",
       "  <tbody>\n",
       "    <tr>\n",
       "      <th>0</th>\n",
       "      <td>Sout</td>\n",
       "      <td>Bat</td>\n",
       "      <td>124</td>\n",
       "      <td>105</td>\n",
       "    </tr>\n",
       "    <tr>\n",
       "      <th>1</th>\n",
       "      <td>Nort</td>\n",
       "      <td>Birkenhea</td>\n",
       "      <td>166</td>\n",
       "      <td>17</td>\n",
       "    </tr>\n",
       "    <tr>\n",
       "      <th>2</th>\n",
       "      <td>Sout</td>\n",
       "      <td>Birmingha</td>\n",
       "      <td>146</td>\n",
       "      <td>5</td>\n",
       "    </tr>\n",
       "    <tr>\n",
       "      <th>3</th>\n",
       "      <td>Nort</td>\n",
       "      <td>Blackbur</td>\n",
       "      <td>180</td>\n",
       "      <td>14</td>\n",
       "    </tr>\n",
       "    <tr>\n",
       "      <th>4</th>\n",
       "      <td>Nort</td>\n",
       "      <td>Blackpoo</td>\n",
       "      <td>160</td>\n",
       "      <td>18</td>\n",
       "    </tr>\n",
       "  </tbody>\n",
       "</table>\n",
       "</div>"
      ],
      "text/plain": [
       "  locatio        tow  mortalit  hardness\n",
       "0    Sout        Bat       124       105\n",
       "1    Nort  Birkenhea       166        17\n",
       "2    Sout  Birmingha       146         5\n",
       "3    Nort   Blackbur       180        14\n",
       "4    Nort   Blackpoo       160        18"
      ]
     },
     "execution_count": 33,
     "metadata": {},
     "output_type": "execute_result"
    }
   ],
   "source": [
    "df = pd.read_csv('water.txt', delimiter=\"\t\")\n",
    "df.head()"
   ]
  },
  {
   "cell_type": "code",
   "execution_count": 34,
   "metadata": {},
   "outputs": [
    {
     "name": "stdout",
     "output_type": "stream",
     "text": [
      "Описательные статистики для северных городов:\n",
      "         mortalit   hardness\n",
      "count   35.000000  35.000000\n",
      "mean   162.857143  30.400000\n",
      "std     13.760863  26.134494\n",
      "min    137.000000   6.000000\n",
      "25%    155.000000  12.500000\n",
      "50%    163.000000  17.000000\n",
      "75%    171.500000  44.000000\n",
      "max    198.000000  94.000000\n"
     ]
    }
   ],
   "source": [
    "north_cities_df = df[df['locatio'] == 'Nort']\n",
    "print(\"Описательные статистики для северных городов:\")\n",
    "print(north_cities_df.describe())"
   ]
  },
  {
   "cell_type": "code",
   "execution_count": 35,
   "metadata": {},
   "outputs": [
    {
     "name": "stdout",
     "output_type": "stream",
     "text": [
      "Описательные статистики для южных городов:\n",
      "         mortalit    hardness\n",
      "count   26.000000   26.000000\n",
      "mean   137.076923   69.769231\n",
      "std     14.053962   40.360682\n",
      "min    109.000000    5.000000\n",
      "25%    125.250000   40.250000\n",
      "50%    135.500000   75.500000\n",
      "75%    148.000000   99.750000\n",
      "max    162.000000  138.000000\n"
     ]
    }
   ],
   "source": [
    "south_cities_df = df[df['locatio'] == 'Sout']\n",
    "print(\"Описательные статистики для южных городов:\")\n",
    "print(south_cities_df.describe())"
   ]
  },
  {
   "cell_type": "code",
   "execution_count": 36,
   "metadata": {},
   "outputs": [
    {
     "name": "stdout",
     "output_type": "stream",
     "text": [
      "Средняя смертность в северных городах: 162.85714285714286\n",
      "Средняя концентрация кальция в северных городах: 30.4\n"
     ]
    }
   ],
   "source": [
    "print(f\"Средняя смертность в северных городах: {north_cities_df['mortalit'].mean()}\")\n",
    "print(f\"Средняя концентрация кальция в северных городах: {north_cities_df['hardness'].mean()}\")"
   ]
  },
  {
   "cell_type": "code",
   "execution_count": 37,
   "metadata": {},
   "outputs": [
    {
     "name": "stdout",
     "output_type": "stream",
     "text": [
      "Средняя смертность в южных городах: 137.07692307692307\n",
      "Средняя концентрация кальция в южных городах: 69.76923076923077\n"
     ]
    }
   ],
   "source": [
    "print(f\"Средняя смертность в южных городах: {south_cities_df['mortalit'].mean()}\")\n",
    "print(f\"Средняя концентрация кальция в южных городах: {south_cities_df['hardness'].mean()}\")"
   ]
  },
  {
   "cell_type": "markdown",
   "metadata": {},
   "source": [
    "Среднее значение смертности в северных городах выше чем в южных. <br>\n",
    "Среднее значение концентрации кальция в южных городах выше чем в северных."
   ]
  },
  {
   "cell_type": "markdown",
   "metadata": {},
   "source": [
    "Постройте 95% доверительные интервалы для средней годовой смертности по \n",
    "всем южным и северным городам. Отличаются ли границы интервалов? "
   ]
  },
  {
   "cell_type": "code",
   "execution_count": 38,
   "metadata": {},
   "outputs": [
    {
     "name": "stdout",
     "output_type": "stream",
     "text": [
      "95% доверительный интервал для средней смертности в северных городах: (134.89170502252813, 190.8225806917576)\n"
     ]
    }
   ],
   "source": [
    "north_cities_mean = north_cities_df[\"mortalit\"].mean()\n",
    "\n",
    "north_cities_std = north_cities_df[\"mortalit\"].std()\n",
    "\n",
    "result = tuple(float(x) for x in _tconfint_generic(north_cities_mean, north_cities_std, north_cities_df.shape[0] - 1, 0.05, \"two-sided\"))\n",
    "\n",
    "print(f'95% доверительный интервал для средней смертности в северных городах: {result}')"
   ]
  },
  {
   "cell_type": "code",
   "execution_count": 40,
   "metadata": {},
   "outputs": [
    {
     "name": "stdout",
     "output_type": "stream",
     "text": [
      "95% доверительный интервал для средней смертности в южных городах: (108.1322466467511, 166.02159950709503)\n"
     ]
    }
   ],
   "source": [
    "south_cities_mean = south_cities_df[\"mortalit\"].mean()\n",
    "\n",
    "south_cities_std = south_cities_df[\"mortalit\"].std()\n",
    "\n",
    "result = tuple(float(x) for x in _tconfint_generic(south_cities_mean, south_cities_std, south_cities_df.shape[0] - 1, 0.05, \"two-sided\"))\n",
    "\n",
    "print(f'95% доверительный интервал для средней смертности в южных городах: {result}')"
   ]
  },
  {
   "cell_type": "markdown",
   "metadata": {},
   "source": [
    "Границы интервалов отличаются."
   ]
  },
  {
   "cell_type": "markdown",
   "metadata": {},
   "source": [
    "Постройте 95% доверительные интервалы для средней концентрации кальция в \n",
    "питьевой воде для южных и северных городов. Отличаются ли границы \n",
    "интервалов? "
   ]
  },
  {
   "cell_type": "code",
   "execution_count": 41,
   "metadata": {},
   "outputs": [
    {
     "name": "stdout",
     "output_type": "stream",
     "text": [
      "95% доверительный интервал для средней концентрации кальция в северных городах: (-22.711681471446482, 83.51168147144648)\n"
     ]
    }
   ],
   "source": [
    "north_cities_mean = north_cities_df[\"hardness\"].mean()\n",
    "\n",
    "north_cities_std = north_cities_df[\"hardness\"].std()\n",
    "\n",
    "result = tuple(float(x) for x in _tconfint_generic(north_cities_mean, north_cities_std, north_cities_df.shape[0] - 1, 0.05, \"two-sided\"))\n",
    "\n",
    "print(f'95% доверительный интервал для средней концентрации кальция в северных городах: {result}')"
   ]
  },
  {
   "cell_type": "code",
   "execution_count": 42,
   "metadata": {},
   "outputs": [
    {
     "name": "stdout",
     "output_type": "stream",
     "text": [
      "95% доверительный интервал для средней концентрации кальция в южных городах: (-13.355148903600366, 152.8936104420619)\n"
     ]
    }
   ],
   "source": [
    "south_cities_mean = south_cities_df[\"hardness\"].mean()\n",
    "\n",
    "south_cities_std = south_cities_df[\"hardness\"].std()\n",
    "\n",
    "result = tuple(float(x) for x in _tconfint_generic(south_cities_mean, south_cities_std, south_cities_df.shape[0] - 1, 0.05, \"two-sided\"))\n",
    "\n",
    "print(f'95% доверительный интервал для средней концентрации кальция в южных городах: {result}')"
   ]
  },
  {
   "cell_type": "markdown",
   "metadata": {},
   "source": [
    "Границы интервалов отличаются."
   ]
  },
  {
   "cell_type": "markdown",
   "metadata": {},
   "source": [
    "4) Выводы: <br>\n",
    "Смертность в северных городах выше чем в южных. <br>\n",
    "Концентрация кальция в южных городах выше чем в северных."
   ]
  }
 ],
 "metadata": {
  "kernelspec": {
   "display_name": "Python 3",
   "language": "python",
   "name": "python3"
  },
  "language_info": {
   "codemirror_mode": {
    "name": "ipython",
    "version": 3
   },
   "file_extension": ".py",
   "mimetype": "text/x-python",
   "name": "python",
   "nbconvert_exporter": "python",
   "pygments_lexer": "ipython3",
   "version": "3.13.2"
  }
 },
 "nbformat": 4,
 "nbformat_minor": 2
}
